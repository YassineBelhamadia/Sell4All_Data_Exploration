{
 "cells": [
  {
   "cell_type": "markdown",
   "id": "f51e037e",
   "metadata": {},
   "source": [
    "# 1. Configuration de l'environnement\n"
   ]
  },
  {
   "cell_type": "markdown",
   "id": "7c580bb0",
   "metadata": {},
   "source": [
    "## - Installation des bibliothèques nécessaires"
   ]
  },
  {
   "cell_type": "code",
   "execution_count": 1,
   "id": "106a7a41",
   "metadata": {
    "scrolled": true
   },
   "outputs": [
    {
     "name": "stdout",
     "output_type": "stream",
     "text": [
      "Requirement already satisfied: matplotlib in /Library/Frameworks/Python.framework/Versions/3.10/lib/python3.10/site-packages (3.6.2)\n",
      "Requirement already satisfied: pandas in /Library/Frameworks/Python.framework/Versions/3.10/lib/python3.10/site-packages (2.2.1)\n",
      "Requirement already satisfied: contourpy>=1.0.1 in /Library/Frameworks/Python.framework/Versions/3.10/lib/python3.10/site-packages (from matplotlib) (1.0.6)\n",
      "Requirement already satisfied: cycler>=0.10 in /Library/Frameworks/Python.framework/Versions/3.10/lib/python3.10/site-packages (from matplotlib) (0.11.0)\n",
      "Requirement already satisfied: fonttools>=4.22.0 in /Library/Frameworks/Python.framework/Versions/3.10/lib/python3.10/site-packages (from matplotlib) (4.38.0)\n",
      "Requirement already satisfied: kiwisolver>=1.0.1 in /Library/Frameworks/Python.framework/Versions/3.10/lib/python3.10/site-packages (from matplotlib) (1.4.4)\n",
      "Requirement already satisfied: numpy>=1.19 in /Library/Frameworks/Python.framework/Versions/3.10/lib/python3.10/site-packages (from matplotlib) (1.25.2)\n",
      "Requirement already satisfied: packaging>=20.0 in /Library/Frameworks/Python.framework/Versions/3.10/lib/python3.10/site-packages (from matplotlib) (22.0)\n",
      "Requirement already satisfied: pillow>=6.2.0 in /Library/Frameworks/Python.framework/Versions/3.10/lib/python3.10/site-packages (from matplotlib) (10.3.0)\n",
      "Requirement already satisfied: pyparsing>=2.2.1 in /Library/Frameworks/Python.framework/Versions/3.10/lib/python3.10/site-packages (from matplotlib) (3.0.9)\n",
      "Requirement already satisfied: python-dateutil>=2.7 in /Library/Frameworks/Python.framework/Versions/3.10/lib/python3.10/site-packages (from matplotlib) (2.8.2)\n",
      "Requirement already satisfied: pytz>=2020.1 in /Library/Frameworks/Python.framework/Versions/3.10/lib/python3.10/site-packages (from pandas) (2022.7)\n",
      "Requirement already satisfied: tzdata>=2022.7 in /Library/Frameworks/Python.framework/Versions/3.10/lib/python3.10/site-packages (from pandas) (2024.1)\n",
      "Requirement already satisfied: six>=1.5 in /Library/Frameworks/Python.framework/Versions/3.10/lib/python3.10/site-packages (from python-dateutil>=2.7->matplotlib) (1.16.0)\n",
      "\n",
      "\u001b[1m[\u001b[0m\u001b[34;49mnotice\u001b[0m\u001b[1;39;49m]\u001b[0m\u001b[39;49m A new release of pip is available: \u001b[0m\u001b[31;49m24.0\u001b[0m\u001b[39;49m -> \u001b[0m\u001b[32;49m24.2\u001b[0m\n",
      "\u001b[1m[\u001b[0m\u001b[34;49mnotice\u001b[0m\u001b[1;39;49m]\u001b[0m\u001b[39;49m To update, run: \u001b[0m\u001b[32;49mpip install --upgrade pip\u001b[0m\n"
     ]
    }
   ],
   "source": [
    "# Cette commande installe deux bibliothèques que nous allons utiliser dans ce projet.\n",
    "\n",
    "!pip install matplotlib pandas \n",
    "\n",
    "# Pandas nous aide à manipuler et gérer les DataFrames de manière efficace.\n",
    "# Matplotlib est utilisé pour afficher les visualisations de nos données."
   ]
  },
  {
   "cell_type": "markdown",
   "id": "c17495bf",
   "metadata": {},
   "source": [
    "## - Importation des packages dans notre environnement"
   ]
  },
  {
   "cell_type": "code",
   "execution_count": 2,
   "id": "a149540e",
   "metadata": {},
   "outputs": [],
   "source": [
    "# Après avoir installé les packages nécessaires, importons-les dans notre environnement.\n",
    "\n",
    "import pandas as pd \n",
    "import matplotlib.pyplot as plt\n",
    "\n",
    "# pd et plt sont des alias des bibliothèques pour une utilisation plus facile."
   ]
  },
  {
   "cell_type": "markdown",
   "id": "3fca4c33",
   "metadata": {},
   "source": [
    "# 2. CHARGEMENT ET EXPLORATION DU JEU DE DONNÉES\n",
    "\n"
   ]
  },
  {
   "cell_type": "markdown",
   "id": "684ebd4b",
   "metadata": {},
   "source": [
    "## - Chargement du jeu de données dans un DataFrame Pandas"
   ]
  },
  {
   "cell_type": "code",
   "execution_count": 3,
   "id": "f20b684f",
   "metadata": {},
   "outputs": [
    {
     "data": {
      "text/html": [
       "<div>\n",
       "<style scoped>\n",
       "    .dataframe tbody tr th:only-of-type {\n",
       "        vertical-align: middle;\n",
       "    }\n",
       "\n",
       "    .dataframe tbody tr th {\n",
       "        vertical-align: top;\n",
       "    }\n",
       "\n",
       "    .dataframe thead th {\n",
       "        text-align: right;\n",
       "    }\n",
       "</style>\n",
       "<table border=\"1\" class=\"dataframe\">\n",
       "  <thead>\n",
       "    <tr style=\"text-align: right;\">\n",
       "      <th></th>\n",
       "      <th>Pays</th>\n",
       "      <th>Age</th>\n",
       "      <th>Genre</th>\n",
       "      <th>Dépenses des clients</th>\n",
       "    </tr>\n",
       "  </thead>\n",
       "  <tbody>\n",
       "    <tr>\n",
       "      <th>0</th>\n",
       "      <td>France</td>\n",
       "      <td>32</td>\n",
       "      <td>Female</td>\n",
       "      <td>150.50</td>\n",
       "    </tr>\n",
       "    <tr>\n",
       "      <th>1</th>\n",
       "      <td>Germany</td>\n",
       "      <td>45</td>\n",
       "      <td>Male</td>\n",
       "      <td>200.75</td>\n",
       "    </tr>\n",
       "    <tr>\n",
       "      <th>2</th>\n",
       "      <td>Spain</td>\n",
       "      <td>28</td>\n",
       "      <td>Female</td>\n",
       "      <td>75.25</td>\n",
       "    </tr>\n",
       "    <tr>\n",
       "      <th>3</th>\n",
       "      <td>Italy</td>\n",
       "      <td>39</td>\n",
       "      <td>Male</td>\n",
       "      <td>180.00</td>\n",
       "    </tr>\n",
       "    <tr>\n",
       "      <th>4</th>\n",
       "      <td>UK</td>\n",
       "      <td>52</td>\n",
       "      <td>Female</td>\n",
       "      <td>250.30</td>\n",
       "    </tr>\n",
       "    <tr>\n",
       "      <th>...</th>\n",
       "      <td>...</td>\n",
       "      <td>...</td>\n",
       "      <td>...</td>\n",
       "      <td>...</td>\n",
       "    </tr>\n",
       "    <tr>\n",
       "      <th>60</th>\n",
       "      <td>Digital Realm</td>\n",
       "      <td>NaN</td>\n",
       "      <td>AI</td>\n",
       "      <td>1010101.01</td>\n",
       "    </tr>\n",
       "    <tr>\n",
       "      <th>61</th>\n",
       "      <td>Multiverse</td>\n",
       "      <td>∞</td>\n",
       "      <td>Non-Binary</td>\n",
       "      <td>π</td>\n",
       "    </tr>\n",
       "    <tr>\n",
       "      <th>62</th>\n",
       "      <td>Error</td>\n",
       "      <td>#VALUE!</td>\n",
       "      <td>404</td>\n",
       "      <td>#DIV/0!</td>\n",
       "    </tr>\n",
       "    <tr>\n",
       "      <th>63</th>\n",
       "      <td>Greece, Italy</td>\n",
       "      <td>25;30</td>\n",
       "      <td>Male;Female</td>\n",
       "      <td>100+200</td>\n",
       "    </tr>\n",
       "    <tr>\n",
       "      <th>64</th>\n",
       "      <td>United  Kingdom</td>\n",
       "      <td>Not Available</td>\n",
       "      <td>Other</td>\n",
       "      <td>Priceless</td>\n",
       "    </tr>\n",
       "  </tbody>\n",
       "</table>\n",
       "<p>65 rows × 4 columns</p>\n",
       "</div>"
      ],
      "text/plain": [
       "                 Pays           Age         Genre Dépenses des clients\n",
       "0              France             32       Female               150.50\n",
       "1             Germany             45         Male               200.75\n",
       "2               Spain             28       Female                75.25\n",
       "3               Italy             39         Male               180.00\n",
       "4                  UK             52       Female               250.30\n",
       "..                ...            ...          ...                  ...\n",
       "60      Digital Realm            NaN           AI           1010101.01\n",
       "61         Multiverse              ∞   Non-Binary                    π\n",
       "62              Error        #VALUE!          404              #DIV/0!\n",
       "63      Greece, Italy          25;30  Male;Female              100+200\n",
       "64   United  Kingdom   Not Available        Other            Priceless\n",
       "\n",
       "[65 rows x 4 columns]"
      ]
     },
     "execution_count": 3,
     "metadata": {},
     "output_type": "execute_result"
    }
   ],
   "source": [
    "# Chargement de notre dataset CSV dans un DataFrame pandas.\n",
    "\n",
    "df = pd.read_csv('/Users/yassine/Desktop/youcode project/sell4all.csv')\n",
    "\n",
    "df"
   ]
  },
  {
   "cell_type": "markdown",
   "id": "5b9211a2",
   "metadata": {},
   "source": [
    "## - Initial data exploration : "
   ]
  },
  {
   "cell_type": "code",
   "execution_count": 4,
   "id": "12eb2d9a",
   "metadata": {
    "scrolled": true
   },
   "outputs": [
    {
     "data": {
      "text/plain": [
       "<bound method NDFrame.head of                  Pays           Age         Genre Dépenses des clients\n",
       "0              France             32       Female               150.50\n",
       "1             Germany             45         Male               200.75\n",
       "2               Spain             28       Female                75.25\n",
       "3               Italy             39         Male               180.00\n",
       "4                  UK             52       Female               250.30\n",
       "..                ...            ...          ...                  ...\n",
       "60      Digital Realm            NaN           AI           1010101.01\n",
       "61         Multiverse              ∞   Non-Binary                    π\n",
       "62              Error        #VALUE!          404              #DIV/0!\n",
       "63      Greece, Italy          25;30  Male;Female              100+200\n",
       "64   United  Kingdom   Not Available        Other            Priceless\n",
       "\n",
       "[65 rows x 4 columns]>"
      ]
     },
     "execution_count": 4,
     "metadata": {},
     "output_type": "execute_result"
    }
   ],
   "source": [
    "## La méthode head de pandas nous montre les informations sur les premières et dernières lignes\n",
    "\n",
    "df.head # Cette méthode est utilisée pour s'assurer que les données ont été chargées correctement."
   ]
  },
  {
   "cell_type": "markdown",
   "id": "6e7d9a33",
   "metadata": {},
   "source": [
    "# 3. COMPRÉHENSION DE NOTRE JEU DE DONNÉES"
   ]
  },
  {
   "cell_type": "code",
   "execution_count": 5,
   "id": "b9e0002d",
   "metadata": {},
   "outputs": [
    {
     "data": {
      "text/html": [
       "<div>\n",
       "<style scoped>\n",
       "    .dataframe tbody tr th:only-of-type {\n",
       "        vertical-align: middle;\n",
       "    }\n",
       "\n",
       "    .dataframe tbody tr th {\n",
       "        vertical-align: top;\n",
       "    }\n",
       "\n",
       "    .dataframe thead th {\n",
       "        text-align: right;\n",
       "    }\n",
       "</style>\n",
       "<table border=\"1\" class=\"dataframe\">\n",
       "  <thead>\n",
       "    <tr style=\"text-align: right;\">\n",
       "      <th></th>\n",
       "      <th>Pays</th>\n",
       "      <th>Age</th>\n",
       "      <th>Genre</th>\n",
       "      <th>Dépenses des clients</th>\n",
       "    </tr>\n",
       "  </thead>\n",
       "  <tbody>\n",
       "    <tr>\n",
       "      <th>count</th>\n",
       "      <td>65</td>\n",
       "      <td>63</td>\n",
       "      <td>64</td>\n",
       "      <td>64</td>\n",
       "    </tr>\n",
       "    <tr>\n",
       "      <th>unique</th>\n",
       "      <td>20</td>\n",
       "      <td>41</td>\n",
       "      <td>12</td>\n",
       "      <td>60</td>\n",
       "    </tr>\n",
       "    <tr>\n",
       "      <th>top</th>\n",
       "      <td>France</td>\n",
       "      <td>28</td>\n",
       "      <td>Female</td>\n",
       "      <td>195.25</td>\n",
       "    </tr>\n",
       "    <tr>\n",
       "      <th>freq</th>\n",
       "      <td>10</td>\n",
       "      <td>3</td>\n",
       "      <td>27</td>\n",
       "      <td>2</td>\n",
       "    </tr>\n",
       "  </tbody>\n",
       "</table>\n",
       "</div>"
      ],
      "text/plain": [
       "          Pays  Age    Genre Dépenses des clients\n",
       "count       65    63      64                   64\n",
       "unique      20    41      12                   60\n",
       "top     France    28  Female               195.25\n",
       "freq        10     3      27                    2"
      ]
     },
     "execution_count": 5,
     "metadata": {},
     "output_type": "execute_result"
    }
   ],
   "source": [
    "# La méthode describe nous donne un résumé statistique de chaque colonne.\n",
    "\n",
    "df.describe(include=\"all\") # La méthode describe nous donne un résumé statistique de chaque colonne."
   ]
  },
  {
   "cell_type": "markdown",
   "id": "e7fddaf5",
   "metadata": {},
   "source": [
    "Comme on le voit dans la sortie, la méthode describe traite toutes les colonnes comme des objets, ce qui signifie que nous n'obtenons pas de résumé statistique pour les colonnes numériques.\n"
   ]
  },
  {
   "cell_type": "code",
   "execution_count": 6,
   "id": "50ede380",
   "metadata": {
    "scrolled": true
   },
   "outputs": [
    {
     "name": "stdout",
     "output_type": "stream",
     "text": [
      "<class 'pandas.core.frame.DataFrame'>\n",
      "RangeIndex: 65 entries, 0 to 64\n",
      "Data columns (total 4 columns):\n",
      " #   Column                Non-Null Count  Dtype \n",
      "---  ------                --------------  ----- \n",
      " 0   Pays                  65 non-null     object\n",
      " 1    Age                  63 non-null     object\n",
      " 2   Genre                 64 non-null     object\n",
      " 3   Dépenses des clients  64 non-null     object\n",
      "dtypes: object(4)\n",
      "memory usage: 2.2+ KB\n"
     ]
    }
   ],
   "source": [
    "# La méthode info de pandas fournit des informations techniques sur les données, telles que les types de données, l'utilisation de la mémoire et les valeurs manquantes.\n",
    "df.info(verbose=True)"
   ]
  },
  {
   "cell_type": "markdown",
   "id": "7a8197b8",
   "metadata": {},
   "source": [
    "### Analyse des Données\n",
    "\n",
    "- **Colonnes avec des valeurs manquantes** :\n",
    "  - Les colonnes `Âge`, `Genre`, et `Dépenses des clients` contiennent des valeurs manquantes. Cela pourrait nécessiter un nettoyage des données pour assurer une analyse plus précise.\n",
    "\n",
    "- **Types de données uniformes** :\n",
    "  - Toutes les colonnes sont au format `object`, ce qui indique que les données pourraient être sous forme de texte ou que les données numériques sont mal formatées. Il peut être nécessaire de convertir certains champs en types de données appropriés pour une meilleure analyse.\n",
    "\n",
    "- **Consommation de mémoire** :\n",
    "  - Le DataFrame utilise une quantité relativement faible de mémoire (2,2 Ko), ce qui indique qu'il est assez léger en termes de taille des données.\n",
    "\n",
    "- **Potentiel de conversion de type** :\n",
    "  - Les colonnes telles que `Âge` et `Dépenses des clients` pourraient être mieux analysées si elles étaient converties en types numériques pour permettre des calculs statistiques plus précis.\n",
    "\n",
    "- **Uniformité des données** :\n",
    "  - La présence de colonnes avec des valeurs non nulles mais inférieures au total des lignes (63 pour `Âge`, 64 pour `Genre`, et `Dépenses des clients`) suggère qu'un nettoyage et une vérification supplémentaires sont nécessaires pour garantir la qualité des données.\n"
   ]
  },
  {
   "cell_type": "markdown",
   "id": "ab9722d8",
   "metadata": {},
   "source": [
    "# 4. Nettoyage des données (préliminaire)"
   ]
  },
  {
   "cell_type": "markdown",
   "id": "96b1932e",
   "metadata": {},
   "source": [
    "Lors de ce nettoyage préliminaire des données, nous nous concentrerons sur la conversion des colonnes `Âge` et `Dépenses des clients` en types numériques. Cette étape est cruciale pour pouvoir effectuer des calculs statistiques tels que la moyenne et la médiane. Nous veillerons également à éliminer les entrées incorrectes ou aberrantes afin de garantir la précision des résultats.\n"
   ]
  },
  {
   "cell_type": "code",
   "execution_count": 8,
   "id": "935c5a70",
   "metadata": {},
   "outputs": [],
   "source": [
    "# Conversion des colonnes \"Âge\" et \"Dépenses des clients\" en type numérique, si elles ne le sont pas déjà\n",
    "\n",
    "df[' Age '] = pd.to_numeric(df[' Age '], errors='coerce')\n",
    "df['Dépenses des clients'] = pd.to_numeric(df['Dépenses des clients'], errors='coerce')\n",
    "df[' Age '] = pd.to_numeric(df[' Age '], errors='coerce')\n",
    "df['Dépenses des clients'] = pd.to_numeric(df['Dépenses des clients'], errors='coerce')\n",
    "\n",
    "# Traiter les valeurs non numériques qui ont pu être converties en NaN\n",
    "# Pour l'instant, supprimons toutes les lignes où 'Âge' ou 'Dépenses des clients' sont NaN\n",
    "df = df.dropna(subset=[' Age ', 'Dépenses des clients'])\n",
    "\n"
   ]
  },
  {
   "cell_type": "markdown",
   "id": "68351abf",
   "metadata": {},
   "source": [
    "### Remarques supplémentaires :\n",
    "\n",
    "- La méthode `pd.to_numeric` avec l'option `errors='coerce'` convertit les valeurs non numériques en `NaN`, ce qui facilite l'identification des entrées incorrectes.\n",
    "\n",
    "- En supprimant les lignes contenant des `NaN`, nous nettoyons les données pour garantir que les calculs de moyenne et de médiane sont effectués uniquement sur des valeurs valides.\n",
    "\n",
    "- Cette approche aide à éviter les erreurs de calcul et améliore la qualité des analyses statistiques ultérieures.\n"
   ]
  },
  {
   "cell_type": "markdown",
   "id": "5121d9e2",
   "metadata": {},
   "source": [
    "# 5. Statistiques récapitulatives"
   ]
  },
  {
   "cell_type": "code",
   "execution_count": 10,
   "id": "342787ef",
   "metadata": {
    "scrolled": true
   },
   "outputs": [
    {
     "name": "stdout",
     "output_type": "stream",
     "text": [
      "              Age   Dépenses des clients\n",
      "count    56.000000             56.000000\n",
      "mean     54.232143          18014.616964\n",
      "std     131.186057         133609.213676\n",
      "min    -100.000000              0.010000\n",
      "25%      29.750000            117.625000\n",
      "50%      36.500000            167.500000\n",
      "75%      46.250000            201.937500\n",
      "max    1000.000000         999999.990000\n",
      "Âge moyen : 54.232142857142854, Âge médian : 36.5\n",
      "Dépenses moyennes : 18014.616964285717, Dépenses médianes : 167.5\n"
     ]
    }
   ],
   "source": [
    "# Afficher les statistiques résumées du dataset\n",
    "print(df.describe())\n",
    "\n",
    "# Calculer la moyenne et la médiane pour 'Âge' et 'Dépenses des clients'\n",
    "mean_age = df[' Age '].mean()\n",
    "median_age = df[' Age '].median()\n",
    "\n",
    "mean_spending = df['Dépenses des clients'].mean()\n",
    "median_spending = df['Dépenses des clients'].median()\n",
    "\n",
    "print(f\"Âge moyen : {mean_age}, Âge médian : {median_age}\")\n",
    "print(f\"Dépenses moyennes : {mean_spending}, Dépenses médianes : {median_spending}\")\n",
    "\n",
    "# Remarques supplémentaires :\n",
    "# - La méthode describe() fournit un aperçu statistique complet des colonnes numériques, incluant les mesures comme la moyenne, la médiane, l'écart type, etc.\n",
    "# - Le calcul de la moyenne et de la médiane permet de comprendre les tendances centrales des données pour 'Âge' et 'Dépenses des clients'.\n",
    "# - La moyenne est utile pour connaître la tendance générale, tandis que la médiane donne une meilleure idée de la valeur centrale en cas de valeurs extrêmes ou de distribution asymétrique.\n"
   ]
  },
  {
   "cell_type": "markdown",
   "id": "d0fbec1a",
   "metadata": {},
   "source": [
    "### Résumé de l'analyse des données\n",
    "\n",
    "#### Âge\n",
    "- **Âge moyen** : 54,23\n",
    "- **Médiane de l'âge** : 36,5\n",
    "  - La différence significative entre la moyenne et la médiane indique des valeurs d'âge très élevées qui influencent la moyenne.\n",
    "- **Écart type** : 131,19, indiquant une grande variabilité dans les âges.\n",
    "- **Valeurs extrêmes** :\n",
    "  - Minimum : -100 (probable erreur ou outlier)\n",
    "  - Maximum : 1000 (probable outlier)\n",
    "\n",
    "#### Dépenses des clients\n",
    "- **Dépense moyenne** : 18 014,62\n",
    "- **Médiane des dépenses** : 167,50\n",
    "  - La grande différence entre la moyenne et la médiane suggère la présence de dépenses exceptionnellement élevées qui augmentent la moyenne.\n",
    "- **Écart type** : 133 609,21, montrant une grande variabilité dans les dépenses.\n",
    "- **Valeurs extrêmes** :\n",
    "  - Minimum : 0,01 (valeur très basse)\n",
    "  - Maximum : 999 999,99 (probable outlier)\n",
    "\n",
    "#### Observation Générale\n",
    "- Les données présentent une asymétrie notable et des valeurs extrêmes. Un nettoyage des données est nécessaire pour améliorer la précision des analyses futures.\n"
   ]
  },
  {
   "cell_type": "code",
   "execution_count": 11,
   "id": "f1e0eb23",
   "metadata": {},
   "outputs": [],
   "source": [
    "# Étape 1 : Calculer Q1 (25e percentile) et Q3 (75e percentile)\n",
    "Q1 = df['Dépenses des clients'].quantile(0.25)\n",
    "Q3 = df['Dépenses des clients'].quantile(0.75)\n",
    "\n",
    "# Étape 2 : Calculer l'Intervalle Interquartile (IQR)\n",
    "IQR = Q3 - Q1\n",
    "\n",
    "# Étape 3 : Définir les limites inférieure et supérieure\n",
    "lower_bound = Q1 - 1.5 * IQR\n",
    "upper_bound = Q3 + 1.5 * IQR\n",
    "\n",
    "# Étape 4 : Filtrer les outliers\n",
    "df = df[(df['Dépenses des clients'] >= lower_bound) & (df['Dépenses des clients'] <= upper_bound)]"
   ]
  },
  {
   "cell_type": "code",
   "execution_count": 12,
   "id": "dd0f0cec",
   "metadata": {},
   "outputs": [],
   "source": [
    "# Application de la même logique à la colonne Âge\n",
    "Q1 = df[' Age '].quantile(0.25)\n",
    "Q3 = df[' Age '].quantile(0.75)\n",
    "\n",
    "# Étape 2 : Calculer l'Intervalle Interquartile (IQR)\n",
    "IQR = Q3 - Q1\n",
    "\n",
    "# Étape 3 : Définir les limites inférieure et supérieure\n",
    "lower_bound = Q1 - 1.5 * IQR\n",
    "upper_bound = Q3 + 1.5 * IQR\n",
    "\n",
    "# Étape 4 : Filtrer les outliers\n",
    "df = df[(df[' Age '] >= lower_bound) & (df[' Age '] <= upper_bound)]"
   ]
  },
  {
   "cell_type": "code",
   "execution_count": 13,
   "id": "e9d38d77",
   "metadata": {},
   "outputs": [
    {
     "data": {
      "text/html": [
       "<div>\n",
       "<style scoped>\n",
       "    .dataframe tbody tr th:only-of-type {\n",
       "        vertical-align: middle;\n",
       "    }\n",
       "\n",
       "    .dataframe tbody tr th {\n",
       "        vertical-align: top;\n",
       "    }\n",
       "\n",
       "    .dataframe thead th {\n",
       "        text-align: right;\n",
       "    }\n",
       "</style>\n",
       "<table border=\"1\" class=\"dataframe\">\n",
       "  <thead>\n",
       "    <tr style=\"text-align: right;\">\n",
       "      <th></th>\n",
       "      <th>Pays</th>\n",
       "      <th>Age</th>\n",
       "      <th>Genre</th>\n",
       "      <th>Dépenses des clients</th>\n",
       "    </tr>\n",
       "  </thead>\n",
       "  <tbody>\n",
       "    <tr>\n",
       "      <th>count</th>\n",
       "      <td>53</td>\n",
       "      <td>53.000000</td>\n",
       "      <td>52</td>\n",
       "      <td>53.000000</td>\n",
       "    </tr>\n",
       "    <tr>\n",
       "      <th>unique</th>\n",
       "      <td>9</td>\n",
       "      <td>NaN</td>\n",
       "      <td>2</td>\n",
       "      <td>NaN</td>\n",
       "    </tr>\n",
       "    <tr>\n",
       "      <th>top</th>\n",
       "      <td>Germany</td>\n",
       "      <td>NaN</td>\n",
       "      <td>Female</td>\n",
       "      <td>NaN</td>\n",
       "    </tr>\n",
       "    <tr>\n",
       "      <th>freq</th>\n",
       "      <td>10</td>\n",
       "      <td>NaN</td>\n",
       "      <td>27</td>\n",
       "      <td>NaN</td>\n",
       "    </tr>\n",
       "    <tr>\n",
       "      <th>mean</th>\n",
       "      <td>NaN</td>\n",
       "      <td>37.490566</td>\n",
       "      <td>NaN</td>\n",
       "      <td>156.953774</td>\n",
       "    </tr>\n",
       "    <tr>\n",
       "      <th>std</th>\n",
       "      <td>NaN</td>\n",
       "      <td>9.037577</td>\n",
       "      <td>NaN</td>\n",
       "      <td>54.241707</td>\n",
       "    </tr>\n",
       "    <tr>\n",
       "      <th>min</th>\n",
       "      <td>NaN</td>\n",
       "      <td>22.000000</td>\n",
       "      <td>NaN</td>\n",
       "      <td>5.750000</td>\n",
       "    </tr>\n",
       "    <tr>\n",
       "      <th>25%</th>\n",
       "      <td>NaN</td>\n",
       "      <td>30.000000</td>\n",
       "      <td>NaN</td>\n",
       "      <td>120.000000</td>\n",
       "    </tr>\n",
       "    <tr>\n",
       "      <th>50%</th>\n",
       "      <td>NaN</td>\n",
       "      <td>36.000000</td>\n",
       "      <td>NaN</td>\n",
       "      <td>165.000000</td>\n",
       "    </tr>\n",
       "    <tr>\n",
       "      <th>75%</th>\n",
       "      <td>NaN</td>\n",
       "      <td>45.000000</td>\n",
       "      <td>NaN</td>\n",
       "      <td>200.250000</td>\n",
       "    </tr>\n",
       "    <tr>\n",
       "      <th>max</th>\n",
       "      <td>NaN</td>\n",
       "      <td>55.000000</td>\n",
       "      <td>NaN</td>\n",
       "      <td>250.300000</td>\n",
       "    </tr>\n",
       "  </tbody>\n",
       "</table>\n",
       "</div>"
      ],
      "text/plain": [
       "           Pays       Age    Genre  Dépenses des clients\n",
       "count        53  53.000000      52             53.000000\n",
       "unique        9        NaN       2                   NaN\n",
       "top     Germany        NaN  Female                   NaN\n",
       "freq         10        NaN      27                   NaN\n",
       "mean        NaN  37.490566     NaN            156.953774\n",
       "std         NaN   9.037577     NaN             54.241707\n",
       "min         NaN  22.000000     NaN              5.750000\n",
       "25%         NaN  30.000000     NaN            120.000000\n",
       "50%         NaN  36.000000     NaN            165.000000\n",
       "75%         NaN  45.000000     NaN            200.250000\n",
       "max         NaN  55.000000     NaN            250.300000"
      ]
     },
     "execution_count": 13,
     "metadata": {},
     "output_type": "execute_result"
    }
   ],
   "source": [
    "df.describe(include='all')"
   ]
  },
  {
   "cell_type": "markdown",
   "id": "04ff5ed0",
   "metadata": {},
   "source": [
    "#### Observation Générale\n",
    "- La suppression des outliers a permis d'obtenir une distribution plus équilibrée pour les âges et les dépenses.\n",
    "- Les statistiques centrales (moyenne et médiane) sont maintenant plus proches, reflétant une répartition des données plus uniforme.\n",
    "- La variabilité des données est réduite, mais certaines valeurs extrêmes restent présentes, nécessitant une attention continue."
   ]
  },
  {
   "cell_type": "markdown",
   "id": "4eb669b1",
   "metadata": {},
   "source": [
    "# 6. Nettoyage des données approfondi"
   ]
  },
  {
   "cell_type": "code",
   "execution_count": 14,
   "id": "f106571d",
   "metadata": {},
   "outputs": [],
   "source": [
    "# Supprimer les lignes dupliquées\n",
    "df = df.drop_duplicates()\n",
    "\n",
    "# Filtrer les lignes où les dépenses des clients sont inférieures à 10 €\n",
    "df = df[df['Dépenses des clients'] >= 10]\n"
   ]
  },
  {
   "cell_type": "code",
   "execution_count": 15,
   "id": "4072a429",
   "metadata": {},
   "outputs": [],
   "source": [
    "# Suppression des espaces indésirables dans le nom de la colonne \"Âge\"\n",
    "df = df.rename(columns={' Age ': 'age'})"
   ]
  },
  {
   "cell_type": "code",
   "execution_count": null,
   "id": "d5142cf7",
   "metadata": {},
   "outputs": [],
   "source": [
    "df.describe(include='all')"
   ]
  },
  {
   "cell_type": "code",
   "execution_count": 16,
   "id": "81a8cbbb",
   "metadata": {},
   "outputs": [],
   "source": [
    "# Il reste encore une valeur manquante dans la colonne Genre.\n",
    "\n",
    "# Étant donné que notre jeu de données est petit et que nous ne nous concentrons pas sur le genre des clients, \n",
    "# et que la suppression de colonnes supplémentaires affecterait notre jeu de données, \n",
    "# nous allons remplacer la valeur manquante par la valeur la plus fréquente (mode).\n",
    "\n",
    "df['Genre'] = df['Genre'].fillna(df['Genre'].mode()[0])"
   ]
  },
  {
   "cell_type": "code",
   "execution_count": 17,
   "id": "b28f71ae",
   "metadata": {},
   "outputs": [
    {
     "data": {
      "text/plain": [
       "Pays                    0\n",
       "age                     0\n",
       "Genre                   0\n",
       "Dépenses des clients    0\n",
       "dtype: int64"
      ]
     },
     "execution_count": 17,
     "metadata": {},
     "output_type": "execute_result"
    }
   ],
   "source": [
    "df.isnull().sum()"
   ]
  },
  {
   "cell_type": "markdown",
   "id": "dc5fd1e4",
   "metadata": {},
   "source": [
    "Comme nous pouvons le voir, les données ne contiennent plus de valeurs manquantes."
   ]
  },
  {
   "cell_type": "markdown",
   "id": "8b0f1aeb",
   "metadata": {},
   "source": [
    "# 7. Prétraitement supplémentaire"
   ]
  },
  {
   "cell_type": "code",
   "execution_count": 18,
   "id": "6de0e6ad",
   "metadata": {},
   "outputs": [],
   "source": [
    "# Sélectionner les colonnes pertinentes : 'Pays', 'Âge', 'Genre', 'Dépenses des clients'\n",
    "df = df[['Pays', 'age', 'Genre', 'Dépenses des clients']]"
   ]
  },
  {
   "cell_type": "markdown",
   "id": "2c14d035",
   "metadata": {},
   "source": [
    "# 8. Visualisation des données"
   ]
  },
  {
   "cell_type": "code",
   "execution_count": 19,
   "id": "aa318170",
   "metadata": {},
   "outputs": [
    {
     "data": {
      "image/png": "[encoded data removed]",
      "text/plain": [
       "<Figure size 1000x600 with 1 Axes>"
      ]
     },
     "metadata": {},
     "output_type": "display_data"
    }
   ],
   "source": [
    "\n",
    "# Regrouper par 'Pays' et sommer les 'Dépenses des clients'\n",
    "spending_by_country = df.groupby('Pays')['Dépenses des clients'].sum()\n",
    "\n",
    "# Créer le graphique à barres\n",
    "plt.figure(figsize=(10, 6))\n",
    "plt.bar(spending_by_country.index, spending_by_country.values, color='skyblue')\n",
    "\n",
    "# Ajouter le titre et les labels\n",
    "plt.title('Dépenses totales des clients par pays')\n",
    "plt.xlabel('Pays')\n",
    "plt.ylabel('Dépenses totales')\n",
    "\n",
    "# Faire pivoter les labels de l'axe x pour une meilleure lisibilité s'il y a beaucoup de pays\n",
    "plt.xticks(rotation=45)\n",
    "\n",
    "# Afficher le graphique\n",
    "plt.show()\n"
   ]
  },
  {
   "cell_type": "markdown",
   "id": "3c27d120",
   "metadata": {},
   "source": [
    "- **Comme nous pouvons le voir, la majorité des dépensiers sur le site Sell4All sont européens.**\n",
    "\n",
    "- **Le Royaume-Uni, l'Allemagne, la France, l'Italie et l'Espagne sont les plus gros dépensiers, avec un total de dépenses compris entre 1300 $ et  1900 $.**\n",
    "\n",
    "- **L'Australie, le Brésil, le Japon et les États-Unis ont une dépense moyenne d'environ 200 $.**\n"
   ]
  },
  {
   "cell_type": "markdown",
   "id": "6c97805f",
   "metadata": {},
   "source": [
    "# 9. Enregistrement des données nettoyées"
   ]
  },
  {
   "cell_type": "code",
   "execution_count": 20,
   "id": "f68f2b00",
   "metadata": {},
   "outputs": [],
   "source": [
    "output_file_path = '/Users/yassine/Desktop/youcode project/sell4all_cleaned.csv'\n",
    "df.to_csv(output_file_path, index=False)"
   ]
  }
 ],
 "metadata": {
  "kernelspec": {
   "display_name": "Python 3 (ipykernel)",
   "language": "python",
   "name": "python3"
  },
  "language_info": {
   "codemirror_mode": {
    "name": "ipython",
    "version": 3
   },
   "file_extension": ".py",
   "mimetype": "text/x-python",
   "name": "python",
   "nbconvert_exporter": "python",
   "pygments_lexer": "ipython3",
   "version": "3.10.1"
  }
 },
 "nbformat": 4,
 "nbformat_minor": 5
}
